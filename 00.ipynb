{
 "cells": [
  {
   "cell_type": "markdown",
   "metadata": {},
   "source": [
    "# The Python Challenge \n",
    "\n",
    "## Level 0 - warming up\n",
    "\n",
    "### Url: http://www.pythonchallenge.com/pc/def/0.html"
   ]
  },
  {
   "cell_type": "code",
   "execution_count": 1,
   "metadata": {},
   "outputs": [
    {
     "name": "stdout",
     "output_type": "stream",
     "text": [
      "274877906944\n"
     ]
    }
   ],
   "source": [
    "print(2**38)"
   ]
  },
  {
   "cell_type": "markdown",
   "metadata": {},
   "source": [
    "## Next Level:\n",
    "\n",
    "### Url: http://www.pythonchallenge.com/pc/def/274877906944.html"
   ]
  }
 ],
 "metadata": {
  "interpreter": {
   "hash": "3721c27184cd7f75f6e36617997e841af35f42068dec66c06f674f7a4280c341"
  },
  "kernelspec": {
   "display_name": "Python 3.8.2 64-bit (system)",
   "language": "python",
   "name": "python3"
  },
  "language_info": {
   "codemirror_mode": {
    "name": "ipython",
    "version": 3
   },
   "file_extension": ".py",
   "mimetype": "text/x-python",
   "name": "python",
   "nbconvert_exporter": "python",
   "pygments_lexer": "ipython3",
   "version": "3.8.2"
  },
  "orig_nbformat": 4,
  "vscode": {
   "interpreter": {
    "hash": "49cb93f377a7abe7414b7b0f21fb3017538004a126cf690fb524202736b7fb92"
   }
  }
 },
 "nbformat": 4,
 "nbformat_minor": 2
}
