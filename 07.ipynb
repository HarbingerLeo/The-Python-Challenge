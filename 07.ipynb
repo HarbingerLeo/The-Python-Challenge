{
 "cells": [
  {
   "cell_type": "markdown",
   "metadata": {},
   "source": [
    "# The Python Challenge \n",
    "\n",
    "## Level 7 - smarty\n",
    "\n",
    "### Url: http://www.pythonchallenge.com/pc/def/oxygen.html"
   ]
  },
  {
   "cell_type": "markdown",
   "metadata": {},
   "source": [
    "全场除了一个标签`smarty`就只剩这张图了嗷，看起来是要提取图片信息了。"
   ]
  },
  {
   "cell_type": "code",
   "execution_count": 1,
   "metadata": {},
   "outputs": [
    {
     "name": "stdout",
     "output_type": "stream",
     "text": [
      "[(115, 115, 115, 255), (109, 109, 109, 255), (97, 97, 97, 255), (114, 114, 114, 255), (116, 116, 116, 255), (32, 32, 32, 255), (103, 103, 103, 255), (117, 117, 117, 255), (121, 121, 121, 255), (44, 44, 44, 255), (32, 32, 32, 255), (121, 121, 121, 255), (111, 111, 111, 255), (117, 117, 117, 255), (32, 32, 32, 255), (109, 109, 109, 255), (97, 97, 97, 255), (100, 100, 100, 255), (101, 101, 101, 255), (32, 32, 32, 255), (105, 105, 105, 255), (116, 116, 116, 255), (46, 46, 46, 255), (32, 32, 32, 255), (116, 116, 116, 255), (104, 104, 104, 255), (101, 101, 101, 255), (32, 32, 32, 255), (110, 110, 110, 255), (101, 101, 101, 255), (120, 120, 120, 255), (116, 116, 116, 255), (32, 32, 32, 255), (108, 108, 108, 255), (101, 101, 101, 255), (118, 118, 118, 255), (101, 101, 101, 255), (108, 108, 108, 255), (32, 32, 32, 255), (105, 105, 105, 255), (115, 115, 115, 255), (32, 32, 32, 255), (91, 91, 91, 255), (49, 49, 49, 255), (48, 48, 48, 255), (53, 53, 53, 255), (44, 44, 44, 255), (32, 32, 32, 255), (49, 49, 49, 255), (49, 49, 49, 255), (48, 48, 48, 255), (44, 44, 44, 255), (32, 32, 32, 255), (49, 49, 49, 255), (49, 49, 49, 255), (54, 54, 54, 255), (44, 44, 44, 255), (32, 32, 32, 255), (49, 49, 49, 255), (48, 48, 48, 255), (49, 49, 49, 255), (44, 44, 44, 255), (32, 32, 32, 255), (49, 49, 49, 255), (48, 48, 48, 255), (51, 51, 51, 255), (44, 44, 44, 255), (32, 32, 32, 255), (49, 49, 49, 255), (49, 49, 49, 255), (52, 52, 52, 255), (44, 44, 44, 255), (32, 32, 32, 255), (49, 49, 49, 255), (48, 48, 48, 255), (53, 53, 53, 255), (44, 44, 44, 255), (32, 32, 32, 255), (49, 49, 49, 255), (49, 49, 49, 255), (54, 54, 54, 255), (44, 44, 44, 255), (32, 32, 32, 255), (49, 49, 49, 255), (50, 50, 50, 255), (49, 49, 49, 255), (93, 93, 93, 255), (116, 115, 71, 255), (104, 101, 58, 255)]\n"
     ]
    }
   ],
   "source": [
    "import requests\n",
    "from PIL import Image\n",
    "\n",
    "hidden = []\n",
    "# ===================================================\n",
    "# 没想到加载图片的这步折磨了我这么久\n",
    "# 要么就是卡0x89,要么就是不识别\n",
    "# 最后的方案还是requests库的手册给出来的：\n",
    "# https://requests.readthedocs.io/en/latest/user/quickstart/#raw-response-content\n",
    "url = \"http://www.pythonchallenge.com/pc/def/oxygen.png\"\n",
    "data = requests.get(url, stream=True).raw\n",
    "with Image.open(data) as im:\n",
    "# 就这三行折磨了我三天捏\n",
    "# ===================================================\n",
    "    # 以下开扒中间那个黑条块的数据\n",
    "    pixel = None\n",
    "    for x in range(im.width//7):\n",
    "        # 49是QQ截图数像素数出来的\n",
    "        # 手动数像素发现每个马赛克的宽度为7(特别地，第一块宽度为5),每7像素一采样可行\n",
    "        hidden.append(im.getpixel((x*7, 49)))\n",
    "print(hidden)"
   ]
  },
  {
   "cell_type": "code",
   "execution_count": 2,
   "metadata": {},
   "outputs": [
    {
     "name": "stdout",
     "output_type": "stream",
     "text": [
      "smart guy, you made it. the next level is [105, 110, 116, 101, 103, 114, 105, 116, 121]th\n"
     ]
    }
   ],
   "source": [
    "# 直觉告诉我这个事ascii码\n",
    "info = [chr(i[0]) for i in hidden]\n",
    "infostr = \"\".join(info)\n",
    "print(infostr)"
   ]
  },
  {
   "cell_type": "code",
   "execution_count": 3,
   "metadata": {},
   "outputs": [
    {
     "name": "stdout",
     "output_type": "stream",
     "text": [
      "integrity"
     ]
    }
   ],
   "source": [
    "# 最后那点乱码已经不在马赛克里了，正常，这个list里应该也是ascii码\n",
    "import re\n",
    "\n",
    "answer = re.findall(re.compile(r\"[\\[](.*)[\\]]\"), infostr)[0].split(', ')\n",
    "for i in answer:\n",
    "    print(chr(int(i)),end='')"
   ]
  },
  {
   "cell_type": "markdown",
   "metadata": {},
   "source": [
    "## Next Level:\n",
    "\n",
    "### Url: http://www.pythonchallenge.com/pc/def/integrity.html"
   ]
  }
 ],
 "metadata": {
  "interpreter": {
   "hash": "3721c27184cd7f75f6e36617997e841af35f42068dec66c06f674f7a4280c341"
  },
  "kernelspec": {
   "display_name": "Python 3.8.2 64-bit (system)",
   "language": "python",
   "name": "python3"
  },
  "language_info": {
   "codemirror_mode": {
    "name": "ipython",
    "version": 3
   },
   "file_extension": ".py",
   "mimetype": "text/x-python",
   "name": "python",
   "nbconvert_exporter": "python",
   "pygments_lexer": "ipython3",
   "version": "3.8.2"
  },
  "orig_nbformat": 4,
  "vscode": {
   "interpreter": {
    "hash": "49cb93f377a7abe7414b7b0f21fb3017538004a126cf690fb524202736b7fb92"
   }
  }
 },
 "nbformat": 4,
 "nbformat_minor": 2
}
